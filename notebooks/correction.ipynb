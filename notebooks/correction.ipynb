{
 "cells": [
  {
   "cell_type": "markdown",
   "id": "264b862e-5d10-4a0b-b299-bb8942985cde",
   "metadata": {},
   "source": [
    "After manual revision by native speakers, we have made some corrections to the received translation, wich can be found in 2 csv files, one for training corrections, and one for test corrections, in this notebook we're going to import the files and correct the questions."
   ]
  },
  {
   "cell_type": "code",
   "execution_count": 15,
   "id": "6bd2a8b7-77bd-4c43-91ea-02985ac347cb",
   "metadata": {},
   "outputs": [],
   "source": [
    "import pandas as pd\n",
    "import json"
   ]
  },
  {
   "cell_type": "code",
   "execution_count": 16,
   "id": "7e561f77-0afb-4930-96fd-f396ef1fee80",
   "metadata": {},
   "outputs": [],
   "source": [
    "test_modifications = pd.read_csv('../data/fix-QALD_9_plus-test.csv')\n",
    "train_modifications = pd.read_csv('../data/fix-QALD_9_plus-train.csv')"
   ]
  },
  {
   "cell_type": "code",
   "execution_count": 32,
   "id": "485f2a24-c61c-4237-ab77-7ee11590284c",
   "metadata": {},
   "outputs": [
    {
     "data": {
      "text/html": [
       "<div>\n",
       "<style scoped>\n",
       "    .dataframe tbody tr th:only-of-type {\n",
       "        vertical-align: middle;\n",
       "    }\n",
       "\n",
       "    .dataframe tbody tr th {\n",
       "        vertical-align: top;\n",
       "    }\n",
       "\n",
       "    .dataframe thead th {\n",
       "        text-align: right;\n",
       "    }\n",
       "</style>\n",
       "<table border=\"1\" class=\"dataframe\">\n",
       "  <thead>\n",
       "    <tr style=\"text-align: right;\">\n",
       "      <th></th>\n",
       "      <th>id</th>\n",
       "      <th>english_question</th>\n",
       "      <th>original_translation</th>\n",
       "      <th>fixed</th>\n",
       "    </tr>\n",
       "  </thead>\n",
       "  <tbody>\n",
       "    <tr>\n",
       "      <th>0</th>\n",
       "      <td>6</td>\n",
       "      <td>Are Taiko some kind of Japanese musical instru...</td>\n",
       "      <td>¿Taiko es algún tipo de instrumento musical ja...</td>\n",
       "      <td>¿Es el taiko algún tipo de instrumento musical...</td>\n",
       "    </tr>\n",
       "    <tr>\n",
       "      <th>1</th>\n",
       "      <td>49</td>\n",
       "      <td>Which frequent flyer program has the most airl...</td>\n",
       "      <td>¿Qué programa de viajero frecuente tiene la ma...</td>\n",
       "      <td>¿Qué programa de viajero frecuente tiene más a...</td>\n",
       "    </tr>\n",
       "    <tr>\n",
       "      <th>2</th>\n",
       "      <td>214</td>\n",
       "      <td>Give me all professional skateboarders from Sw...</td>\n",
       "      <td>Dame a todos los patinetas profesionales de Su...</td>\n",
       "      <td>Dame todos los skaters profesionales de Suecia.</td>\n",
       "    </tr>\n",
       "    <tr>\n",
       "      <th>3</th>\n",
       "      <td>197</td>\n",
       "      <td>Which U.S. state has been admitted latest?</td>\n",
       "      <td>¿Qué estado de los EE.UU. ha sido admitido más...</td>\n",
       "      <td>¿Cuál estado de los EE.UU. fue el último en se...</td>\n",
       "    </tr>\n",
       "    <tr>\n",
       "      <th>4</th>\n",
       "      <td>168</td>\n",
       "      <td>Which actors play in Big Bang Theory?</td>\n",
       "      <td>¿Qué actores interpretan en Big Bang Theory?</td>\n",
       "      <td>¿Qué actores actuan en Big Bang Theory?</td>\n",
       "    </tr>\n",
       "  </tbody>\n",
       "</table>\n",
       "</div>"
      ],
      "text/plain": [
       "    id                                   english_question  \\\n",
       "0    6  Are Taiko some kind of Japanese musical instru...   \n",
       "1   49  Which frequent flyer program has the most airl...   \n",
       "2  214  Give me all professional skateboarders from Sw...   \n",
       "3  197         Which U.S. state has been admitted latest?   \n",
       "4  168              Which actors play in Big Bang Theory?   \n",
       "\n",
       "                                original_translation  \\\n",
       "0  ¿Taiko es algún tipo de instrumento musical ja...   \n",
       "1  ¿Qué programa de viajero frecuente tiene la ma...   \n",
       "2  Dame a todos los patinetas profesionales de Su...   \n",
       "3  ¿Qué estado de los EE.UU. ha sido admitido más...   \n",
       "4       ¿Qué actores interpretan en Big Bang Theory?   \n",
       "\n",
       "                                               fixed  \n",
       "0  ¿Es el taiko algún tipo de instrumento musical...  \n",
       "1  ¿Qué programa de viajero frecuente tiene más a...  \n",
       "2    Dame todos los skaters profesionales de Suecia.  \n",
       "3  ¿Cuál estado de los EE.UU. fue el último en se...  \n",
       "4            ¿Qué actores actuan en Big Bang Theory?  "
      ]
     },
     "execution_count": 32,
     "metadata": {},
     "output_type": "execute_result"
    }
   ],
   "source": [
    "test_modifications.head()"
   ]
  },
  {
   "cell_type": "code",
   "execution_count": 18,
   "id": "c272d6fe-c2ff-4ece-a367-efe2ff08d4a7",
   "metadata": {},
   "outputs": [
    {
     "data": {
      "text/html": [
       "<div>\n",
       "<style scoped>\n",
       "    .dataframe tbody tr th:only-of-type {\n",
       "        vertical-align: middle;\n",
       "    }\n",
       "\n",
       "    .dataframe tbody tr th {\n",
       "        vertical-align: top;\n",
       "    }\n",
       "\n",
       "    .dataframe thead th {\n",
       "        text-align: right;\n",
       "    }\n",
       "</style>\n",
       "<table border=\"1\" class=\"dataframe\">\n",
       "  <thead>\n",
       "    <tr style=\"text-align: right;\">\n",
       "      <th></th>\n",
       "      <th>id</th>\n",
       "      <th>english_question</th>\n",
       "      <th>original_translation</th>\n",
       "      <th>fixed</th>\n",
       "    </tr>\n",
       "  </thead>\n",
       "  <tbody>\n",
       "    <tr>\n",
       "      <th>0</th>\n",
       "      <td>8</td>\n",
       "      <td>Which airports does Air China serve?</td>\n",
       "      <td>¿A qué aeropuertos sirve Air China?</td>\n",
       "      <td>¿En qué aeropuertos opera Air China?</td>\n",
       "    </tr>\n",
       "    <tr>\n",
       "      <th>1</th>\n",
       "      <td>19</td>\n",
       "      <td>Who created the comic Captain America?</td>\n",
       "      <td>¿Quién creó el cómico Capitán América?</td>\n",
       "      <td>¿Quién creó el cómic Capitán América?</td>\n",
       "    </tr>\n",
       "    <tr>\n",
       "      <th>2</th>\n",
       "      <td>34</td>\n",
       "      <td>Show me all basketball players that are higher...</td>\n",
       "      <td>Muéstrame a todos los jugadores de baloncesto ...</td>\n",
       "      <td>Muéstrame a todos los jugadores de baloncesto ...</td>\n",
       "    </tr>\n",
       "    <tr>\n",
       "      <th>3</th>\n",
       "      <td>39</td>\n",
       "      <td>What movies does Jesse Eisenberg play in?</td>\n",
       "      <td>¿En qué películas interpreta Jesse Eisenberg?</td>\n",
       "      <td>¿En qué películas actua Jesse Eisenberg?</td>\n",
       "    </tr>\n",
       "    <tr>\n",
       "      <th>4</th>\n",
       "      <td>55</td>\n",
       "      <td>Give me the capitals of all countries that the...</td>\n",
       "      <td>Dame las capitales de todos los países a travé...</td>\n",
       "      <td>Dame las capitales de todos los países por los...</td>\n",
       "    </tr>\n",
       "  </tbody>\n",
       "</table>\n",
       "</div>"
      ],
      "text/plain": [
       "   id                                   english_question  \\\n",
       "0   8               Which airports does Air China serve?   \n",
       "1  19             Who created the comic Captain America?   \n",
       "2  34  Show me all basketball players that are higher...   \n",
       "3  39          What movies does Jesse Eisenberg play in?   \n",
       "4  55  Give me the capitals of all countries that the...   \n",
       "\n",
       "                                original_translation  \\\n",
       "0                ¿A qué aeropuertos sirve Air China?   \n",
       "1             ¿Quién creó el cómico Capitán América?   \n",
       "2  Muéstrame a todos los jugadores de baloncesto ...   \n",
       "3      ¿En qué películas interpreta Jesse Eisenberg?   \n",
       "4  Dame las capitales de todos los países a travé...   \n",
       "\n",
       "                                               fixed  \n",
       "0               ¿En qué aeropuertos opera Air China?  \n",
       "1              ¿Quién creó el cómic Capitán América?  \n",
       "2  Muéstrame a todos los jugadores de baloncesto ...  \n",
       "3           ¿En qué películas actua Jesse Eisenberg?  \n",
       "4  Dame las capitales de todos los países por los...  "
      ]
     },
     "execution_count": 18,
     "metadata": {},
     "output_type": "execute_result"
    }
   ],
   "source": [
    "train_modifications.head()"
   ]
  },
  {
   "cell_type": "markdown",
   "id": "a7ffcfad-568a-4cb3-b943-c87b51f2c0c4",
   "metadata": {},
   "source": [
    "Now let's read the files"
   ]
  },
  {
   "cell_type": "code",
   "execution_count": 83,
   "id": "4ae742f4-61de-4cbd-83bc-b330cb0c5a41",
   "metadata": {},
   "outputs": [],
   "source": [
    "def read_json(filename):\n",
    "    with open(filename, 'r', encoding=\"utf8\") as f:\n",
    "        return json.load(f)\n",
    "    \n",
    "def save_json(filename, data):\n",
    "    \"\"\"save json\"\"\"\n",
    "    with open(filename, 'w', encoding=\"utf8\") as f:\n",
    "        json.dump(data, f, indent=4, ensure_ascii=False)\n",
    "    \n",
    "def modify_question(question, modification):\n",
    "    index = next(filter((lambda x: x[1].get('language') == 'es'), enumerate(question.get('question'))))[0]\n",
    "    question['question'][index]['string'] = modification.iloc[0]['fixed']\n",
    "    return question\n",
    "\n",
    "def fix_dataset(path, modifications):\n",
    "    data = read_json(path)\n",
    "    for question in data.get('questions'):\n",
    "        #search the id in the modifications list\n",
    "        corrections = modifications.loc[modifications['id'] == int(question.get('id'))]\n",
    "        if not corrections.empty:\n",
    "            modify_question(question, corrections)\n",
    "            question = question\n",
    "    save_json(path, data)"
   ]
  },
  {
   "cell_type": "code",
   "execution_count": 85,
   "id": "a442814a-48dc-4f43-911e-02863ea566d4",
   "metadata": {
    "tags": []
   },
   "outputs": [],
   "source": [
    "fix_dataset('../data/qald_9_plus_test_dbpedia.json', test_modifications)\n",
    "fix_dataset('../data/qald_9_plus_test_wikidata.json', test_modifications)"
   ]
  },
  {
   "cell_type": "code",
   "execution_count": 86,
   "id": "1472f1de-2633-4b0b-afba-7386f8934a36",
   "metadata": {},
   "outputs": [],
   "source": [
    "fix_dataset('../data/qald_9_plus_train_dbpedia.json', train_modifications)\n",
    "fix_dataset('../data/qald_9_plus_train_wikidata.json', train_modifications)"
   ]
  },
  {
   "cell_type": "code",
   "execution_count": null,
   "id": "28d525bd-51b4-4505-91d3-fc6b1082e44e",
   "metadata": {},
   "outputs": [],
   "source": []
  }
 ],
 "metadata": {
  "kernelspec": {
   "display_name": "Python 3",
   "language": "python",
   "name": "python3"
  },
  "language_info": {
   "codemirror_mode": {
    "name": "ipython",
    "version": 3
   },
   "file_extension": ".py",
   "mimetype": "text/x-python",
   "name": "python",
   "nbconvert_exporter": "python",
   "pygments_lexer": "ipython3",
   "version": "3.8.8"
  }
 },
 "nbformat": 4,
 "nbformat_minor": 5
}

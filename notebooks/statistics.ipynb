{
 "cells": [
  {
   "cell_type": "markdown",
   "id": "2c0551b1-b661-469a-8145-9636afb2d883",
   "metadata": {},
   "source": [
    "We modified QALD-9-plus statistics file to display QALD-9-ES statistics"
   ]
  },
  {
   "cell_type": "code",
   "execution_count": 1,
   "id": "13d54e35-e5ed-49cf-9ff0-067fe9732728",
   "metadata": {},
   "outputs": [],
   "source": [
    "import json"
   ]
  },
  {
   "cell_type": "code",
   "execution_count": 2,
   "id": "386deade-ae9e-431a-bfa0-4a7056cce118",
   "metadata": {},
   "outputs": [],
   "source": [
    "def save_json(filename, data):\n",
    "    \"\"\"save json\"\"\"\n",
    "    with open(filename, 'w', encoding=\"utf8\") as f:\n",
    "        json.dump(data, f, indent=4, ensure_ascii=False)\n",
    "        \n",
    "def read_json(filename):\n",
    "    with open(filename, 'r', encoding=\"utf8\") as f:\n",
    "        return json.load(f)\n",
    "    \n",
    "def show_stats(data):\n",
    "    lang_dict = dict()\n",
    "    for q in data['questions']:\n",
    "        for lang in q['question']:\n",
    "            if lang['language'] not in lang_dict.keys():\n",
    "                lang_dict[lang['language']] = [lang]\n",
    "            else:\n",
    "                lang_dict[lang['language']].append(lang)\n",
    "                \n",
    "    for k, v in lang_dict.items():\n",
    "        print(k, len(v))"
   ]
  },
  {
   "cell_type": "markdown",
   "id": "de0020b6-a74c-41c7-a853-4efc8bae353e",
   "metadata": {},
   "source": [
    "## Number of questions per language for DBpedia\n"
   ]
  },
  {
   "cell_type": "code",
   "execution_count": 3,
   "id": "63f409fc-b37a-4d36-8fe4-352ee22e5c01",
   "metadata": {},
   "outputs": [],
   "source": [
    "test = read_json(\"../QALD_9_ES_data/QALD_9_ES/qald_9_es_test_dbpedia.json\")\n",
    "train = read_json(\"../QALD_9_ES_data/QALD_9_ES/qald_9_es_train_dbpedia.json\")"
   ]
  },
  {
   "cell_type": "code",
   "execution_count": 4,
   "id": "067d7646-1ca7-4e67-9a38-6e17c756d71b",
   "metadata": {},
   "outputs": [
    {
     "name": "stdout",
     "output_type": "stream",
     "text": [
      "en 408\n",
      "de 543\n",
      "ru 1203\n",
      "lt 468\n",
      "uk 447\n",
      "fr 260\n",
      "es 408\n",
      "be 441\n",
      "ba 284\n",
      "hy 80\n"
     ]
    }
   ],
   "source": [
    "show_stats(train)"
   ]
  },
  {
   "cell_type": "code",
   "execution_count": 5,
   "id": "3d250ffc-8840-4707-a125-90f3e9e7a380",
   "metadata": {},
   "outputs": [
    {
     "name": "stdout",
     "output_type": "stream",
     "text": [
      "en 150\n",
      "de 176\n",
      "ru 348\n",
      "uk 176\n",
      "lt 186\n",
      "be 155\n",
      "ba 117\n",
      "es 150\n",
      "hy 20\n",
      "fr 26\n"
     ]
    }
   ],
   "source": [
    "show_stats(test)"
   ]
  },
  {
   "cell_type": "markdown",
   "id": "33981e4c-52b8-4e58-9770-1db707185bdb",
   "metadata": {},
   "source": [
    "## Number of questions per language for Wikipedia"
   ]
  },
  {
   "cell_type": "code",
   "execution_count": 6,
   "id": "b4111fa1-693e-415d-a2b8-0bc1ea98b510",
   "metadata": {},
   "outputs": [],
   "source": [
    "test = read_json(\"../QALD_9_ES_data/QALD_9_ES/qald_9_es_test_wikidata.json\")\n",
    "train = read_json(\"../QALD_9_ES_data/QALD_9_ES/qald_9_es_train_wikidata.json\")"
   ]
  },
  {
   "cell_type": "code",
   "execution_count": 7,
   "id": "90ea2ca7-c648-4752-a82e-c8e5c8e25861",
   "metadata": {},
   "outputs": [
    {
     "name": "stdout",
     "output_type": "stream",
     "text": [
      "en 371\n",
      "de 497\n",
      "ru 1095\n",
      "lt 426\n",
      "uk 407\n",
      "fr 251\n",
      "es 371\n",
      "be 403\n",
      "ba 260\n",
      "hy 71\n"
     ]
    }
   ],
   "source": [
    "show_stats(train)"
   ]
  },
  {
   "cell_type": "code",
   "execution_count": 8,
   "id": "1d5f76b5-0969-4660-8a5c-b48d4e263d4b",
   "metadata": {},
   "outputs": [
    {
     "name": "stdout",
     "output_type": "stream",
     "text": [
      "en 136\n",
      "de 159\n",
      "ru 318\n",
      "uk 160\n",
      "lt 166\n",
      "be 141\n",
      "ba 107\n",
      "es 136\n",
      "hy 19\n",
      "fr 25\n"
     ]
    }
   ],
   "source": [
    "show_stats(test)"
   ]
  },
  {
   "cell_type": "code",
   "execution_count": null,
   "id": "88c9e01a-4b82-4db1-ba26-cc68c469e768",
   "metadata": {},
   "outputs": [],
   "source": []
  }
 ],
 "metadata": {
  "kernelspec": {
   "display_name": "Python 3",
   "language": "python",
   "name": "python3"
  },
  "language_info": {
   "codemirror_mode": {
    "name": "ipython",
    "version": 3
   },
   "file_extension": ".py",
   "mimetype": "text/x-python",
   "name": "python",
   "nbconvert_exporter": "python",
   "pygments_lexer": "ipython3",
   "version": "3.8.8"
  }
 },
 "nbformat": 4,
 "nbformat_minor": 5
}
